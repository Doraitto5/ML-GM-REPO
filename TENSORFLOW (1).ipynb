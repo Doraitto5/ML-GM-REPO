{
  "nbformat": 4,
  "nbformat_minor": 0,
  "metadata": {
    "colab": {
      "provenance": []
    },
    "kernelspec": {
      "name": "python3",
      "display_name": "Python 3"
    },
    "language_info": {
      "name": "python"
    }
  },
  "cells": [
    {
      "cell_type": "code",
      "execution_count": 14,
      "metadata": {
        "colab": {
          "base_uri": "https://localhost:8080/"
        },
        "id": "aw3yF-I2v40N",
        "outputId": "e58af931-6a76-4c44-f354-41cf4f7de350"
      },
      "outputs": [
        {
          "output_type": "stream",
          "name": "stdout",
          "text": [
            "Tensorflow version:2.18.0\n"
          ]
        }
      ],
      "source": [
        "import tensorflow as tf\n",
        "print(\"Tensorflow version:{}\".format(tf.__version__))"
      ]
    },
    {
      "cell_type": "code",
      "source": [
        "d0=tf.constant(1)\n",
        "print(\"Dimension is \",tf.rank(d0).numpy())\n",
        "print(d0)"
      ],
      "metadata": {
        "colab": {
          "base_uri": "https://localhost:8080/"
        },
        "id": "tDtpMiSUwMxj",
        "outputId": "806391df-42e0-4358-988a-1fc2a8d40bad"
      },
      "execution_count": 15,
      "outputs": [
        {
          "output_type": "stream",
          "name": "stdout",
          "text": [
            "Dimension is  0\n",
            "tf.Tensor(1, shape=(), dtype=int32)\n"
          ]
        }
      ]
    },
    {
      "cell_type": "code",
      "source": [
        "d1=tf.ones((2,))\n",
        "print(\"Dimension is\",tf.rank (d1).numpy())\n",
        "print(d1)"
      ],
      "metadata": {
        "colab": {
          "base_uri": "https://localhost:8080/"
        },
        "id": "byhJwYZdxFuI",
        "outputId": "35957c54-f666-46aa-bcf8-76c322d6f189"
      },
      "execution_count": 16,
      "outputs": [
        {
          "output_type": "stream",
          "name": "stdout",
          "text": [
            "Dimension is 1\n",
            "tf.Tensor([1. 1.], shape=(2,), dtype=float32)\n"
          ]
        }
      ]
    },
    {
      "cell_type": "code",
      "source": [
        "d2=tf.ones((2,2))\n",
        "print(\"Dimension is\",tf.rank (d2).numpy())\n",
        "print(d2)"
      ],
      "metadata": {
        "colab": {
          "base_uri": "https://localhost:8080/"
        },
        "id": "KvWNjcfMxjuh",
        "outputId": "9bb20aed-2a1f-4dfa-98e8-135219771bc2"
      },
      "execution_count": 17,
      "outputs": [
        {
          "output_type": "stream",
          "name": "stdout",
          "text": [
            "Dimension is 2\n",
            "tf.Tensor(\n",
            "[[1. 1.]\n",
            " [1. 1.]], shape=(2, 2), dtype=float32)\n"
          ]
        }
      ]
    },
    {
      "cell_type": "code",
      "source": [
        "d3=tf.ones((2,2,2))\n",
        "print(\"Dimension is\",tf.rank (d3).numpy())\n",
        "print(d3)"
      ],
      "metadata": {
        "colab": {
          "base_uri": "https://localhost:8080/"
        },
        "id": "UYnlRGAHyBkm",
        "outputId": "ec087feb-79c7-47fb-86cc-285cc28bc0fe"
      },
      "execution_count": 18,
      "outputs": [
        {
          "output_type": "stream",
          "name": "stdout",
          "text": [
            "Dimension is 3\n",
            "tf.Tensor(\n",
            "[[[1. 1.]\n",
            "  [1. 1.]]\n",
            "\n",
            " [[1. 1.]\n",
            "  [1. 1.]]], shape=(2, 2, 2), dtype=float32)\n"
          ]
        }
      ]
    },
    {
      "cell_type": "code",
      "source": [
        "x1=tf.Variable(23)\n",
        "x2=tf.Variable([[[0.,1.,2.],[3.,4.,5.]],[[6.,7.,8.],[9.,10.,11.]]])\n",
        "x0=123\n",
        "x1"
      ],
      "metadata": {
        "colab": {
          "base_uri": "https://localhost:8080/"
        },
        "id": "NGv7d0FZz3ON",
        "outputId": "84a29665-3926-448f-dbae-8f8fb15ded2f"
      },
      "execution_count": 22,
      "outputs": [
        {
          "output_type": "execute_result",
          "data": {
            "text/plain": [
              "<tf.Variable 'Variable:0' shape=() dtype=int32, numpy=23>"
            ]
          },
          "metadata": {},
          "execution_count": 22
        }
      ]
    },
    {
      "cell_type": "code",
      "source": [
        "x1.assign(100)\n",
        "x1"
      ],
      "metadata": {
        "colab": {
          "base_uri": "https://localhost:8080/"
        },
        "id": "hvrVKZrX2cl5",
        "outputId": "2280ef5e-c38c-4df7-9a16-c444307c84d2"
      },
      "execution_count": 24,
      "outputs": [
        {
          "output_type": "execute_result",
          "data": {
            "text/plain": [
              "<tf.Variable 'Variable:0' shape=() dtype=int32, numpy=100>"
            ]
          },
          "metadata": {},
          "execution_count": 24
        }
      ]
    },
    {
      "cell_type": "code",
      "source": [
        "x1=tf.Variable(100)\n",
        "print(x1)\n",
        "x1.assign(200)\n",
        "x1"
      ],
      "metadata": {
        "colab": {
          "base_uri": "https://localhost:8080/"
        },
        "id": "IYVDaF4907Fk",
        "outputId": "aee457a3-a1c5-43db-e391-397d1c88c2e9"
      },
      "execution_count": 28,
      "outputs": [
        {
          "output_type": "stream",
          "name": "stdout",
          "text": [
            "<tf.Variable 'Variable:0' shape=() dtype=int32, numpy=100>\n"
          ]
        },
        {
          "output_type": "execute_result",
          "data": {
            "text/plain": [
              "<tf.Variable 'Variable:0' shape=() dtype=int32, numpy=200>"
            ]
          },
          "metadata": {},
          "execution_count": 28
        }
      ]
    },
    {
      "cell_type": "code",
      "source": [
        "x2"
      ],
      "metadata": {
        "colab": {
          "base_uri": "https://localhost:8080/"
        },
        "id": "5erQslGZ2zhW",
        "outputId": "312cef92-e51f-4b4b-8402-78913b8b6b52"
      },
      "execution_count": 29,
      "outputs": [
        {
          "output_type": "execute_result",
          "data": {
            "text/plain": [
              "<tf.Variable 'Variable:0' shape=(2, 2, 3) dtype=float32, numpy=\n",
              "array([[[ 0.,  1.,  2.],\n",
              "        [ 3.,  4.,  5.]],\n",
              "\n",
              "       [[ 6.,  7.,  8.],\n",
              "        [ 9., 10., 11.]]], dtype=float32)>"
            ]
          },
          "metadata": {},
          "execution_count": 29
        }
      ]
    },
    {
      "cell_type": "code",
      "source": [
        "x0"
      ],
      "metadata": {
        "colab": {
          "base_uri": "https://localhost:8080/"
        },
        "id": "CWCMRHCf3wiu",
        "outputId": "1cbeab4e-1f27-4b11-ba72-fe19a6548852"
      },
      "execution_count": 30,
      "outputs": [
        {
          "output_type": "execute_result",
          "data": {
            "text/plain": [
              "123"
            ]
          },
          "metadata": {},
          "execution_count": 30
        }
      ]
    },
    {
      "cell_type": "markdown",
      "source": [
        "Reshape"
      ],
      "metadata": {
        "id": "RmNXu78W4zdU"
      }
    },
    {
      "cell_type": "code",
      "source": [
        "x112=tf.reshape(x2,[1,12])\n",
        "x112"
      ],
      "metadata": {
        "colab": {
          "base_uri": "https://localhost:8080/"
        },
        "id": "qMxafN3R36gR",
        "outputId": "856f8652-96c9-4524-a0a7-dec771b967a5"
      },
      "execution_count": 32,
      "outputs": [
        {
          "output_type": "execute_result",
          "data": {
            "text/plain": [
              "<tf.Tensor: shape=(1, 12), dtype=float32, numpy=\n",
              "array([[ 0.,  1.,  2.,  3.,  4.,  5.,  6.,  7.,  8.,  9., 10., 11.]],\n",
              "      dtype=float32)>"
            ]
          },
          "metadata": {},
          "execution_count": 32
        }
      ]
    },
    {
      "cell_type": "code",
      "source": [
        "xf64=tf.Variable(202,dtype=tf.float64)\n",
        "xf64.dtype"
      ],
      "metadata": {
        "colab": {
          "base_uri": "https://localhost:8080/"
        },
        "id": "VKz1pHUP3_G2",
        "outputId": "f096c0f8-aae1-40cc-838d-b9c4d1109c7a"
      },
      "execution_count": 34,
      "outputs": [
        {
          "output_type": "execute_result",
          "data": {
            "text/plain": [
              "tf.float64"
            ]
          },
          "metadata": {},
          "execution_count": 34
        }
      ]
    },
    {
      "cell_type": "code",
      "source": [],
      "metadata": {
        "id": "R8ZdLu_D6V65"
      },
      "execution_count": null,
      "outputs": []
    },
    {
      "cell_type": "code",
      "source": [
        "np.float64"
      ],
      "metadata": {
        "colab": {
          "base_uri": "https://localhost:8080/",
          "height": 141
        },
        "id": "xNahSJmM5rrE",
        "outputId": "dd68c89b-f93f-4ada-9fff-ba81cfa39563"
      },
      "execution_count": 35,
      "outputs": [
        {
          "output_type": "error",
          "ename": "NameError",
          "evalue": "name 'np' is not defined",
          "traceback": [
            "\u001b[0;31m---------------------------------------------------------------------------\u001b[0m",
            "\u001b[0;31mNameError\u001b[0m                                 Traceback (most recent call last)",
            "\u001b[0;32m/tmp/ipython-input-1732762970.py\u001b[0m in \u001b[0;36m<cell line: 0>\u001b[0;34m()\u001b[0m\n\u001b[0;32m----> 1\u001b[0;31m \u001b[0mnp\u001b[0m\u001b[0;34m.\u001b[0m\u001b[0mfloat64\u001b[0m\u001b[0;34m\u001b[0m\u001b[0;34m\u001b[0m\u001b[0m\n\u001b[0m",
            "\u001b[0;31mNameError\u001b[0m: name 'np' is not defined"
          ]
        }
      ]
    },
    {
      "cell_type": "markdown",
      "source": [
        "Declaring Variable with Type"
      ],
      "metadata": {
        "id": "0ENZO2Ve6e6M"
      }
    },
    {
      "cell_type": "code",
      "source": [
        "tf.rank(xf64)"
      ],
      "metadata": {
        "colab": {
          "base_uri": "https://localhost:8080/"
        },
        "id": "fbcgmgG26cVV",
        "outputId": "dd92caa9-cba5-4edc-9465-f052ec897614"
      },
      "execution_count": 36,
      "outputs": [
        {
          "output_type": "execute_result",
          "data": {
            "text/plain": [
              "<tf.Tensor: shape=(), dtype=int32, numpy=0>"
            ]
          },
          "metadata": {},
          "execution_count": 36
        }
      ]
    },
    {
      "cell_type": "code",
      "source": [
        "tf.rank(x2)"
      ],
      "metadata": {
        "colab": {
          "base_uri": "https://localhost:8080/"
        },
        "id": "M77lnDYY6xt4",
        "outputId": "52a9264b-1621-4f39-aa72-42fe9677a9c3"
      },
      "execution_count": 37,
      "outputs": [
        {
          "output_type": "execute_result",
          "data": {
            "text/plain": [
              "<tf.Tensor: shape=(), dtype=int32, numpy=3>"
            ]
          },
          "metadata": {},
          "execution_count": 37
        }
      ]
    },
    {
      "cell_type": "code",
      "source": [
        "t=tf.constant([[[1,1,1],[2,2,2]],[[4,3,5],[4,4,414]]])\n",
        "tf.rank(t).numpy()"
      ],
      "metadata": {
        "colab": {
          "base_uri": "https://localhost:8080/"
        },
        "id": "eCRZkj1m68tU",
        "outputId": "62453901-c807-4af2-eb55-374d4f259eda"
      },
      "execution_count": 38,
      "outputs": [
        {
          "output_type": "execute_result",
          "data": {
            "text/plain": [
              "np.int32(3)"
            ]
          },
          "metadata": {},
          "execution_count": 38
        }
      ]
    },
    {
      "cell_type": "code",
      "source": [
        "t.numpy()"
      ],
      "metadata": {
        "colab": {
          "base_uri": "https://localhost:8080/"
        },
        "id": "sheDSFDI7tqt",
        "outputId": "4230083c-4e45-437d-f2ca-1e1e8f23af6a"
      },
      "execution_count": 39,
      "outputs": [
        {
          "output_type": "execute_result",
          "data": {
            "text/plain": [
              "array([[[  1,   1,   1],\n",
              "        [  2,   2,   2]],\n",
              "\n",
              "       [[  4,   3,   5],\n",
              "        [  4,   4, 414]]], dtype=int32)"
            ]
          },
          "metadata": {},
          "execution_count": 39
        }
      ]
    },
    {
      "cell_type": "markdown",
      "source": [
        "Tensor Slicing"
      ],
      "metadata": {
        "id": "KLBO61PQ7z4j"
      }
    },
    {
      "cell_type": "code",
      "source": [
        "tensor3=t[1,1,2]\n",
        "tensor3"
      ],
      "metadata": {
        "colab": {
          "base_uri": "https://localhost:8080/"
        },
        "id": "i03I3kX87wYC",
        "outputId": "e3b55a4b-0692-4a2f-eef3-2c1c769a21a9"
      },
      "execution_count": 40,
      "outputs": [
        {
          "output_type": "execute_result",
          "data": {
            "text/plain": [
              "<tf.Tensor: shape=(), dtype=int32, numpy=414>"
            ]
          },
          "metadata": {},
          "execution_count": 40
        }
      ]
    },
    {
      "cell_type": "code",
      "source": [
        "x=tf.constant([0,1,1,2,3,4,8,13,21,34])\n",
        "print(\"Before 4:\",x[:4].numpy())\n",
        "print(\"After 4\",x [4:].numpy())\n",
        "print(\"From 2,before 7\",x[2:7].numpy())\n",
        "print(\"Every other item:\",x[::2].numpy())\n",
        "print(\"Reversed:\",x[::-1].numpy())"
      ],
      "metadata": {
        "colab": {
          "base_uri": "https://localhost:8080/"
        },
        "id": "TCvd_j1v8B_A",
        "outputId": "191cc73d-ec96-47a6-a65b-e9e98932b93d"
      },
      "execution_count": 43,
      "outputs": [
        {
          "output_type": "stream",
          "name": "stdout",
          "text": [
            "Before 4: [0 1 1 2]\n",
            "After 4 [ 3  4  8 13 21 34]\n",
            "From 2,before 7 [1 2 3 4 8]\n",
            "Every other item: [ 0  1  3  8 21]\n",
            "Reversed: [34 21 13  8  4  3  2  1  1  0]\n"
          ]
        }
      ]
    },
    {
      "cell_type": "markdown",
      "source": [
        "Casting tensor to a datatype"
      ],
      "metadata": {
        "id": "sR3v7_6o9oJU"
      }
    },
    {
      "cell_type": "code",
      "source": [
        "a=tf.constant([[1,2],[3,4]])\n",
        "i=tf.cast(a,dtype=tf.float32)\n",
        "print(a)\n",
        "print(i)"
      ],
      "metadata": {
        "colab": {
          "base_uri": "https://localhost:8080/"
        },
        "id": "G89YvKSf9g2U",
        "outputId": "11985d4c-a8c0-43cf-8c49-62392e8262ba"
      },
      "execution_count": 47,
      "outputs": [
        {
          "output_type": "stream",
          "name": "stdout",
          "text": [
            "tf.Tensor(\n",
            "[[1 2]\n",
            " [3 4]], shape=(2, 2), dtype=int32)\n",
            "tf.Tensor(\n",
            "[[1. 2.]\n",
            " [3. 4.]], shape=(2, 2), dtype=float32)\n"
          ]
        }
      ]
    },
    {
      "cell_type": "markdown",
      "source": [
        "Tensor Operation"
      ],
      "metadata": {
        "id": "pi4O5IZ5D7su"
      }
    },
    {
      "cell_type": "code",
      "source": [
        "a = tf.constant([[1, 2], [3, 4]])\n",
        "b = tf.constant([[5, 6], [7, 8]])\n",
        "\n",
        "c = a + b\n",
        "print(\"Addition:\\n\", c.numpy())\n",
        "\n",
        "d = tf.square(c)\n",
        "print(\"Squared:\\n\", d.numpy())\n",
        "\n",
        "e = tf.add(a, b)\n",
        "f = tf.subtract(b, a)\n",
        "g = tf.multiply(a, b)\n",
        "\n",
        "print(\"Add:\\n\", e.numpy())\n",
        "print(\"Subtract:\\n\", f.numpy())\n",
        "print(\"Multiply:\\n\", g.numpy())\n"
      ],
      "metadata": {
        "colab": {
          "base_uri": "https://localhost:8080/"
        },
        "id": "cTVc2HeF-Vz0",
        "outputId": "ca1149c1-52c9-46cc-db25-25f3834c2654"
      },
      "execution_count": 48,
      "outputs": [
        {
          "output_type": "stream",
          "name": "stdout",
          "text": [
            "Addition:\n",
            " [[ 6  8]\n",
            " [10 12]]\n",
            "Squared:\n",
            " [[ 36  64]\n",
            " [100 144]]\n",
            "Add:\n",
            " [[ 6  8]\n",
            " [10 12]]\n",
            "Subtract:\n",
            " [[4 4]\n",
            " [4 4]]\n",
            "Multiply:\n",
            " [[ 5 12]\n",
            " [21 32]]\n"
          ]
        }
      ]
    },
    {
      "cell_type": "code",
      "source": [],
      "metadata": {
        "id": "KZJQBGEkEZhK"
      },
      "execution_count": null,
      "outputs": []
    }
  ]
}